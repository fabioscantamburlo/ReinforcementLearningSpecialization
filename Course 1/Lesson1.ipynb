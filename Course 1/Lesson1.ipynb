{
 "cells": [
  {
   "cell_type": "code",
   "execution_count": 112,
   "metadata": {},
   "outputs": [],
   "source": [
    "import polars as pl\n",
    "import numpy as np"
   ]
  },
  {
   "cell_type": "code",
   "execution_count": 228,
   "metadata": {},
   "outputs": [],
   "source": [
    "class KArmedBandit:\n",
    "    def __init__(self, n_of_arms, mean, variance, epsilon, seed):\n",
    "        self._n_of_arms = n_of_arms\n",
    "        self._mean = mean\n",
    "        self._variance = variance\n",
    "        self._epsilon = epsilon\n",
    "        self._seed = seed\n",
    "        np.random.seed(self._seed)\n",
    "        self.reset()\n",
    "\n",
    "    def reset(self):\n",
    "        self._q_fs = [0 for _ in range(self._n_of_arms)]\n",
    "        self._q_icr = [0 for _ in range(self._n_of_arms)]\n",
    "        self._reward_num = [0 for _ in range(self._n_of_arms)]\n",
    "\n",
    "    def select_action(self):\n",
    "        if np.random.uniform() > self._epsilon:\n",
    "            # print(\"Greedy logic\")\n",
    "            action = np.argmax(self._q_fs)\n",
    "        else:\n",
    "            # print(\"Random epsilon\")\n",
    "            action = np.random.choice(self._n_of_arms)\n",
    "            # print(f\"Selected action: {action}\")\n",
    "        return action\n",
    "\n",
    "    def generate_reward(self, action):\n",
    "        value = np.random.normal(self._mean[action], self._variance[action])\n",
    "        print(f\"Got value = {value}\")\n",
    "        return value\n",
    "    \n",
    "    def update_internal_state(self, action, reward):\n",
    "        # update Q, reward num\n",
    "        # print(\"Updating value\")\n",
    "        print(f\"Previous value fs = {self._q_fs[action]}\")\n",
    "        print(f\"Previous value iqr = {self._q_icr[action]}\")\n",
    "        print(f\"Previous reward num = {self._reward_num[action]}\")\n",
    "\n",
    "        self._reward_num[action] += 1\n",
    "\n",
    "        self._q_fs[action] = ((self._q_fs[action] * (self._reward_num[action] - 1)) + reward) / self._reward_num[action]\n",
    "        \n",
    "        self._q_icr[action] = self._q_icr[action] + (reward - self._q_icr[action]) / (self._reward_num[action])\n",
    "        \n",
    "        print(f\"new_q_fs = {self._q_fs[action]}\")\n",
    "        print(f\"new_q_iqr = {self._q_icr[action]}\")\n",
    "        \n",
    "\n",
    "\n",
    "\n",
    "\n",
    "    def run(self, n_of_iter):\n",
    "        \n",
    "        for _i in range(n_of_iter):\n",
    "            if _i%50 == 0:\n",
    "                print(f\"Iteration n {_i}\")\n",
    "                self.summarize()\n",
    "\n",
    "            action = self.select_action()\n",
    "\n",
    "            reward = self.generate_reward(action=action)\n",
    "\n",
    "            self.update_internal_state(action=action, reward=reward)\n",
    "    \n",
    "    def summarize(self):\n",
    "        print(\"Summarize bandit\")\n",
    "        print(\"Q function and reward num:\")\n",
    "        print(self._q_fs)\n",
    "        print(self._q_icr)\n",
    "        print(self._reward_num)"
   ]
  },
  {
   "cell_type": "code",
   "execution_count": 229,
   "metadata": {},
   "outputs": [],
   "source": [
    "mean = [5, 1, 5]\n",
    "variance = [3, 1, 4]\n",
    "\n",
    "bandit = KArmedBandit(n_of_arms=3, mean=mean, variance=variance, epsilon=0.1, seed=42)\n",
    "\n"
   ]
  },
  {
   "cell_type": "code",
   "execution_count": 230,
   "metadata": {},
   "outputs": [],
   "source": [
    "bandit.reset()"
   ]
  },
  {
   "cell_type": "code",
   "execution_count": 231,
   "metadata": {},
   "outputs": [
    {
     "name": "stdout",
     "output_type": "stream",
     "text": [
      "Iteration n 0\n",
      "Summarize bandit\n",
      "Q function and reward num:\n",
      "[0, 0, 0]\n",
      "[0, 0, 0]\n",
      "[0, 0, 0]\n",
      "Got value = 1.6643596458592387\n",
      "Previous value fs = 0\n",
      "Previous value iqr = 0\n",
      "Previous reward num = 0\n",
      "new_q_fs = 1.6643596458592387\n",
      "new_q_iqr = 1.6643596458592387\n",
      "Got value = 5.95670655406815\n",
      "Previous value fs = 1.6643596458592387\n",
      "Previous value iqr = 1.6643596458592387\n",
      "Previous reward num = 1\n",
      "new_q_fs = 3.8105330999636946\n",
      "new_q_iqr = 3.810533099963694\n",
      "Got value = 9.737638446522174\n",
      "Previous value fs = 3.8105330999636946\n",
      "Previous value iqr = 3.810533099963694\n",
      "Previous reward num = 2\n",
      "new_q_fs = 5.786234882149855\n",
      "new_q_iqr = 5.786234882149854\n",
      "Got value = 1.767434729152909\n",
      "Previous value fs = 0\n",
      "Previous value iqr = 0\n",
      "Previous reward num = 0\n",
      "new_q_fs = 1.767434729152909\n",
      "new_q_iqr = 1.767434729152909\n",
      "Got value = 5.066665479835949\n",
      "Previous value fs = 5.786234882149855\n",
      "Previous value iqr = 5.786234882149854\n",
      "Previous reward num = 3\n",
      "new_q_fs = 5.606342531571379\n",
      "new_q_iqr = 5.606342531571378\n",
      "Got value = 3.7166212591899637\n",
      "Previous value fs = 5.606342531571379\n",
      "Previous value iqr = 5.606342531571378\n",
      "Previous reward num = 4\n",
      "new_q_fs = 5.228398277095096\n",
      "new_q_iqr = 5.228398277095095\n",
      "Got value = 10.862595075686215\n",
      "Previous value fs = 0\n",
      "Previous value iqr = 0\n",
      "Previous reward num = 0\n",
      "new_q_fs = 10.862595075686215\n",
      "new_q_iqr = 10.862595075686215\n",
      "Got value = 4.0968947980538575\n",
      "Previous value fs = 10.862595075686215\n",
      "Previous value iqr = 10.862595075686215\n",
      "Previous reward num = 1\n",
      "new_q_fs = 7.479744936870036\n",
      "new_q_iqr = 7.479744936870036\n",
      "Got value = 2.8224691018992694\n",
      "Previous value fs = 7.479744936870036\n",
      "Previous value iqr = 7.479744936870036\n",
      "Previous reward num = 2\n",
      "new_q_fs = 5.927319658546447\n",
      "new_q_iqr = 5.927319658546447\n",
      "Got value = 5.443690358839464\n",
      "Previous value fs = 5.927319658546447\n",
      "Previous value iqr = 5.927319658546447\n",
      "Previous reward num = 3\n",
      "new_q_fs = 5.8064123336197015\n",
      "new_q_iqr = 5.8064123336197015\n"
     ]
    }
   ],
   "source": [
    "bandit.run(10)"
   ]
  },
  {
   "cell_type": "code",
   "execution_count": 161,
   "metadata": {},
   "outputs": [
    {
     "name": "stdout",
     "output_type": "stream",
     "text": [
      "Summarize bandit\n",
      "Q function and reward num:\n",
      "[5.228398277095096, 1.767434729152909, 5.8064123336197015]\n",
      "[5, 1, 4]\n"
     ]
    }
   ],
   "source": [
    "bandit.summarize()"
   ]
  },
  {
   "cell_type": "code",
   "execution_count": 87,
   "metadata": {},
   "outputs": [
    {
     "data": {
      "text/plain": [
       "5.006778998441803"
      ]
     },
     "execution_count": 87,
     "metadata": {},
     "output_type": "execute_result"
    }
   ],
   "source": [
    "np.mean(np.random.normal(5, 4, 100000))"
   ]
  },
  {
   "cell_type": "code",
   "execution_count": 88,
   "metadata": {},
   "outputs": [
    {
     "data": {
      "text/plain": [
       "4.992991926653388"
      ]
     },
     "execution_count": 88,
     "metadata": {},
     "output_type": "execute_result"
    }
   ],
   "source": [
    "np.mean(np.random.normal(5, 3, 100000))"
   ]
  },
  {
   "cell_type": "code",
   "execution_count": 89,
   "metadata": {},
   "outputs": [
    {
     "data": {
      "text/plain": [
       "5.000591190535414"
      ]
     },
     "execution_count": 89,
     "metadata": {},
     "output_type": "execute_result"
    }
   ],
   "source": [
    "np.mean(np.random.normal(5, 1, 100000))"
   ]
  },
  {
   "cell_type": "code",
   "execution_count": null,
   "metadata": {},
   "outputs": [],
   "source": []
  },
  {
   "cell_type": "code",
   "execution_count": null,
   "metadata": {},
   "outputs": [],
   "source": []
  }
 ],
 "metadata": {
  "kernelspec": {
   "display_name": "Python 3",
   "language": "python",
   "name": "python3"
  },
  "language_info": {
   "codemirror_mode": {
    "name": "ipython",
    "version": 3
   },
   "file_extension": ".py",
   "mimetype": "text/x-python",
   "name": "python",
   "nbconvert_exporter": "python",
   "pygments_lexer": "ipython3",
   "version": "3.9.12"
  },
  "orig_nbformat": 4
 },
 "nbformat": 4,
 "nbformat_minor": 2
}
