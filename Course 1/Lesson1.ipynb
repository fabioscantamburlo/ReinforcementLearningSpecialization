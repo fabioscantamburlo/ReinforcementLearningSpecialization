{
 "cells": [
  {
   "cell_type": "code",
   "execution_count": 112,
   "metadata": {},
   "outputs": [],
   "source": [
    "import polars as pl\n",
    "import numpy as np"
   ]
  },
  {
   "cell_type": "code",
   "execution_count": 144,
   "metadata": {},
   "outputs": [],
   "source": [
    "class KArmedBandit:\n",
    "    def __init__(self, n_of_arms, mean, variance, epsilon, seed):\n",
    "        self._n_of_arms = n_of_arms\n",
    "        self._mean = mean\n",
    "        self._variance = variance\n",
    "        self._epsilon = epsilon\n",
    "        self._seed = seed\n",
    "        np.random.seed(self._seed)\n",
    "        self.reset()\n",
    "\n",
    "    def reset(self):\n",
    "        self._q = [0 for _ in range(self._n_of_arms)]\n",
    "        self._reward_num = [0 for _ in range(self._n_of_arms)]\n",
    "\n",
    "    def select_action(self):\n",
    "        if np.random.uniform() > self._epsilon:\n",
    "            # print(\"Greedy logic\")\n",
    "            action = np.argmax(self._q)\n",
    "        else:\n",
    "            # print(\"Random epsilon\")\n",
    "            action = np.random.choice(self._n_of_arms)\n",
    "            # print(f\"Selected action: {action}\")\n",
    "        return action\n",
    "\n",
    "    def generate_reward(self, action):\n",
    "        value = np.random.normal(self._mean[action], self._variance[action])\n",
    "        # print(f\"Got value = {value}\")\n",
    "        return value\n",
    "    \n",
    "    def update_internal_state(self, action, reward):\n",
    "        # update Q, reward num\n",
    "        # print(\"Updating value\")\n",
    "        # print(f\"Previous value = {self._q[action]}\")\n",
    "        # print(f\"Previous reward num = {self._reward_num[action]}\")\n",
    "        self._q[action] = (self._q[action] * self._reward_num[action] + reward) / (self._reward_num[action] + 1)\n",
    "        self._reward_num[action] += 1\n",
    "        # print(f\"Post value = {self._q[action]}\")\n",
    "        # print(f\"Post reward num = {self._reward_num[action]}\")\n",
    "\n",
    "\n",
    "    def run(self, n_of_iter):\n",
    "        \n",
    "        for _i in range(n_of_iter):\n",
    "            if _i%50 == 0:\n",
    "                print(f\"Iteration n {_i}\")\n",
    "                self.summarize()\n",
    "\n",
    "            action = self.select_action()\n",
    "\n",
    "            reward = self.generate_reward(action=action)\n",
    "\n",
    "            self.update_internal_state(action=action, reward=reward)\n",
    "    \n",
    "    def summarize(self):\n",
    "        print(\"Summarize bandit\")\n",
    "        print(\"Q function and reward num:\")\n",
    "        print(self._q)\n",
    "        print(self._reward_num)"
   ]
  },
  {
   "cell_type": "code",
   "execution_count": 145,
   "metadata": {},
   "outputs": [],
   "source": [
    "mean = [5, 1, 5]\n",
    "variance = [3, 1, 4]\n",
    "\n",
    "bandit = KArmedBandit(n_of_arms=3, mean=mean, variance=variance, epsilon=0.1, seed=42)\n",
    "\n"
   ]
  },
  {
   "cell_type": "code",
   "execution_count": 146,
   "metadata": {},
   "outputs": [],
   "source": [
    "bandit.reset()"
   ]
  },
  {
   "cell_type": "code",
   "execution_count": 147,
   "metadata": {},
   "outputs": [
    {
     "name": "stdout",
     "output_type": "stream",
     "text": [
      "Iteration n 0\n",
      "Summarize bandit\n",
      "Q function and reward num:\n",
      "[0, 0, 0]\n",
      "[0, 0, 0]\n",
      "Iteration n 50\n",
      "Summarize bandit\n",
      "Q function and reward num:\n",
      "[4.840358997367585, 0.8548619000985043, 6.158969414495561]\n",
      "[7, 2, 41]\n",
      "Iteration n 100\n",
      "Summarize bandit\n",
      "Q function and reward num:\n",
      "[4.774519518836353, 0.7520058454695193, 5.781297914378294]\n",
      "[11, 4, 85]\n"
     ]
    }
   ],
   "source": [
    "bandit.run(101)"
   ]
  },
  {
   "cell_type": "code",
   "execution_count": 148,
   "metadata": {},
   "outputs": [
    {
     "name": "stdout",
     "output_type": "stream",
     "text": [
      "Summarize bandit\n",
      "Q function and reward num:\n",
      "[4.774519518836353, 0.7520058454695193, 5.771994636551869]\n",
      "[11, 4, 86]\n"
     ]
    }
   ],
   "source": [
    "bandit.summarize()"
   ]
  },
  {
   "cell_type": "code",
   "execution_count": 87,
   "metadata": {},
   "outputs": [
    {
     "data": {
      "text/plain": [
       "5.006778998441803"
      ]
     },
     "execution_count": 87,
     "metadata": {},
     "output_type": "execute_result"
    }
   ],
   "source": [
    "np.mean(np.random.normal(5, 4, 100000))"
   ]
  },
  {
   "cell_type": "code",
   "execution_count": 88,
   "metadata": {},
   "outputs": [
    {
     "data": {
      "text/plain": [
       "4.992991926653388"
      ]
     },
     "execution_count": 88,
     "metadata": {},
     "output_type": "execute_result"
    }
   ],
   "source": [
    "np.mean(np.random.normal(5, 3, 100000))"
   ]
  },
  {
   "cell_type": "code",
   "execution_count": 89,
   "metadata": {},
   "outputs": [
    {
     "data": {
      "text/plain": [
       "5.000591190535414"
      ]
     },
     "execution_count": 89,
     "metadata": {},
     "output_type": "execute_result"
    }
   ],
   "source": [
    "np.mean(np.random.normal(5, 1, 100000))"
   ]
  },
  {
   "cell_type": "code",
   "execution_count": null,
   "metadata": {},
   "outputs": [],
   "source": []
  },
  {
   "cell_type": "code",
   "execution_count": null,
   "metadata": {},
   "outputs": [],
   "source": []
  }
 ],
 "metadata": {
  "kernelspec": {
   "display_name": "Python 3",
   "language": "python",
   "name": "python3"
  },
  "language_info": {
   "codemirror_mode": {
    "name": "ipython",
    "version": 3
   },
   "file_extension": ".py",
   "mimetype": "text/x-python",
   "name": "python",
   "nbconvert_exporter": "python",
   "pygments_lexer": "ipython3",
   "version": "3.9.12"
  },
  "orig_nbformat": 4
 },
 "nbformat": 4,
 "nbformat_minor": 2
}
